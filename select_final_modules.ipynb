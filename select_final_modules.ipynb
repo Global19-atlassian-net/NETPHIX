{
 "cells": [
  {
   "cell_type": "markdown",
   "metadata": {},
   "source": [
    "Find the final netphix modules"
   ]
  },
  {
   "cell_type": "code",
   "execution_count": 13,
   "metadata": {},
   "outputs": [
    {
     "data": {
      "text/plain": [
       "<module 'post_analysis' from '/home/kimy3/Projects/NetPhix/NetPhix/github/post_analysis.py'>"
      ]
     },
     "execution_count": 13,
     "metadata": {},
     "output_type": "execute_result"
    }
   ],
   "source": [
    "import sys\n",
    "import os\n",
    "import post_analysis as postproc\n",
    "import pandas as pd\n",
    "from importlib import reload  # Python 3.4+ only.\n",
    "\n",
    "# current directory\n",
    "netphix_dir = os.getcwd() + \"/\"\n",
    "reload(postproc)"
   ]
  },
  {
   "cell_type": "code",
   "execution_count": 3,
   "metadata": {},
   "outputs": [],
   "source": [
    "# parameters\n",
    "density = 0.5\n",
    "pv_th = 0.05\n",
    "max_k = 5\n",
    "penalty = \"p\"\n",
    "corrs = [\"combined\", \"combined2\"]"
   ]
  },
  {
   "cell_type": "code",
   "execution_count": 6,
   "metadata": {},
   "outputs": [],
   "source": [
    "# read files\n",
    "# drug name/id \n",
    "drug_id_df = pd.read_csv(netphix_dir+\"data/drug_target_id.txt\", sep=\"\\t\")\n",
    "drug_id_dic = dict(zip(drug_id_df.drug, drug_id_df.id))\n",
    "\n",
    "# alteration file for NETPHIX\n",
    "netphix_alt_file = netphix_dir + \"data/AlterationsV2_final.txt.gz\"\n",
    "netphix_alt_df = pd.read_csv(netphix_alt_file, sep=\"\\t\", index_col=0)\n"
   ]
  },
  {
   "cell_type": "code",
   "execution_count": 19,
   "metadata": {},
   "outputs": [],
   "source": [
    "# read all modules\n",
    "results_dir = netphix_dir+\"results/gdsc/\"\n",
    "all_p_modules_df = postproc.read_all_modules(results_dir, corrs, max_k, ids=[1])\n",
    "\n",
    "# compute significant modules for each drug PENALTY\n",
    "all_p_sig_modules_df = pd.DataFrame(columns=all_p_modules_df.columns)\n",
    "for i in range(0, all_p_modules_df.shape[0], 10): # assuming each drug has 10 entries\n",
    "    sig_modules_df = postproc.select_sig_modules_for_drug(all_p_modules_df.iloc[i:(i+10)], pv_th)\n",
    "    all_p_sig_modules_df = pd.concat([all_p_sig_modules_df, sig_modules_df])\n",
    "\n",
    "# all_p_sig_modules_df.to_csv(\"../results/Drug/max_sig_combined_modules_\"+str(pv_th)+\".tsv\", sep=\"\\t\", index=False)"
   ]
  }
 ],
 "metadata": {
  "kernelspec": {
   "display_name": "Python 3",
   "language": "python",
   "name": "python3"
  },
  "language_info": {
   "codemirror_mode": {
    "name": "ipython",
    "version": 3
   },
   "file_extension": ".py",
   "mimetype": "text/x-python",
   "name": "python",
   "nbconvert_exporter": "python",
   "pygments_lexer": "ipython3",
   "version": "3.6.2"
  }
 },
 "nbformat": 4,
 "nbformat_minor": 2
}
