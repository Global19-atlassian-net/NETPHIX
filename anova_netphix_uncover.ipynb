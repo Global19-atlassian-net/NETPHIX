{
 "cells": [
  {
   "cell_type": "markdown",
   "metadata": {},
   "source": [
    "\n",
    "Part I: compute ctrp validation p-value with ANOVA\n",
    "Part II:  number of drugs/modules confirmed\n",
    "\n"
   ]
  },
  {
   "cell_type": "code",
   "execution_count": null,
   "metadata": {},
   "outputs": [],
   "source": [
    "import sys\n",
    "import post_analysis as postproc\n",
    "import os\n",
    "import pandas as pd\n",
    "from importlib import reload  # Python 3.4+ only.\n",
    "\n",
    "# current directory\n",
    "netphix_dir = os.getcwd() + \"/\""
   ]
  },
  {
   "cell_type": "code",
   "execution_count": 20,
   "metadata": {},
   "outputs": [],
   "source": [
    "\n",
    "# drug name/id \n",
    "drug_id_df = pd.read_csv(netphix_dir+\"data/drug_target_id.txt\", sep=\"\\t\")\n",
    "drug_id_dic = dict(zip(drug_id_df.drug, drug_id_df.id))\n",
    "\n",
    "\n",
    "# read CTRP AUC data\n",
    "ctrp_auc_df = pd.read_csv(netphix_dir + \"data/ctrp_auc_processed.txt\", sep=\"\\t\", index_col=0)\n",
    "ctrp_drugs = drug_id_df.drug[drug_id_df.CTRP == \"YES\"].values\n",
    "\n",
    "def ctrp_common_samples(alt_df, auc_df):\n",
    "    cell_dic = dict([(x, x.split(\"_\")[0]) for x in alt_df.columns])\n",
    "    alt_df = alt_df.rename(cell_dic, axis=\"columns\")\n",
    "    \n",
    "    common_cells = set(auc_df.columns).intersection(alt_df.columns)\n",
    "    return alt_df[common_cells], auc_df[common_cells]\n",
    "\n",
    "# alteration file for NETPHIX\n",
    "netphix_alt_file = netphix_dir + \"data/AlterationsV2_final.txt.gz\"\n",
    "netphix_alt_df = pd.read_csv(netphix_alt_file, sep=\"\\t\", index_col=0)\n",
    "netphix_ctrp_alt_df, netphix_ctrp_auc_df = ctrp_common_samples(netphix_alt_df, ctrp_auc_df)\n",
    "\n",
    "# alteration file for UNCOVER\n",
    "uncover_alt_file = netphix_dir + \"data/AlterationsV2_uncover.txt\"\n",
    "uncover_alt_df = pd.read_csv(uncover_alt_file, sep=\"\\t\", index_col=0)\n",
    "uncover_ctrp_alt_df, uncover_ctrp_auc_df = ctrp_common_samples(uncover_alt_df, ctrp_auc_df)\n"
   ]
  },
  {
   "cell_type": "code",
   "execution_count": null,
   "metadata": {
    "collapsed": false,
    "jupyter": {
     "outputs_hidden": false
    }
   },
   "outputs": [],
   "source": [
    "# ANOVA with NETPHIX modules\n",
    "all_netphix_modules = pd.read_csv(netphix_dir+\"results/max_sig_combined_modules_0.05.tsv\", sep=\"\\t\")\n",
    "netphix_ctrp_results_df = postproc.cross_val(all_netphix_modules, netphix_ctrp_alt_df, netphix_ctrp_auc_df, \"mut\", ctrp_drugs)\n",
    "\n",
    "netphix_ctrp_results_df.set_index(\"drug\", inplace=True)\n",
    "netphix_ctrp_results_df.to_csv(netphix_dir+\"results/max_sig_combined_modules_ctrp_cv_0.05.tsv\", sep=\"\\t\")\n"
   ]
  },
  {
   "cell_type": "code",
   "execution_count": 28,
   "metadata": {},
   "outputs": [],
   "source": [
    "# ANOVA with UNCOVER modules\n",
    "new_uncover_df = pd.read_csv(netphix_dir+\"data/merged_uncover_modules_0.05.tsv\", sep=\"\\t\")\n",
    "uncover_ctrp_results_df = postproc.cross_val(new_uncover_df, uncover_ctrp_alt_df, uncover_ctrp_auc_df, \"mut\", ctrp_drugs)\n"
   ]
  },
  {
   "cell_type": "code",
   "execution_count": null,
   "metadata": {},
   "outputs": [],
   "source": [
    "# COUNT\n",
    "def sig_df(df, label, th=0.05):\n",
    "    return df[df[label] < th]\n",
    "\n",
    "print(\"NETPHIX (test, validated)\")\n",
    "print(netphix_ctrp_results_df.shape[0], sig_df(netphix_ctrp_results_df, \"cv_mut_pv\", 0.05).shape[0])\n",
    "print(\"UNCOVER (test, validated)\")\n",
    "print(uncover_ctrp_results_df.shape[0], sig_df(uncover_ctrp_results_df, \"cv_mut_pv\", 0.05).shape[0])\n",
    "\n",
    "# choose the best module for each drug\n",
    "best_netphix_ctrp_results_df = pd.DataFrame(netphix_ctrp_results_df.groupby(\"drug\")[\"cv_mut_pv\"].min())\n",
    "print(\"NETPHIX drugs (test, validated)\")\n",
    "\n",
    "print(best_netphix_ctrp_results_df.shape[0], sig_df(best_netphix_ctrp_results_df, \"cv_mut_pv\", 0.05).shape[0])\n"
   ]
  }
 ],
 "metadata": {
  "kernelspec": {
   "display_name": "Python 3",
   "language": "python",
   "name": "python3"
  },
  "language_info": {
   "codemirror_mode": {
    "name": "ipython",
    "version": 3
   },
   "file_extension": ".py",
   "mimetype": "text/x-python",
   "name": "python",
   "nbconvert_exporter": "python",
   "pygments_lexer": "ipython3",
   "version": "3.6.2"
  }
 },
 "nbformat": 4,
 "nbformat_minor": 4
}
