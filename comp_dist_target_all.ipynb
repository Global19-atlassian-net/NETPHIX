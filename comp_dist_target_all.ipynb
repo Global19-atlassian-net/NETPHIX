{
 "cells": [
  {
   "cell_type": "markdown",
   "metadata": {},
   "source": [
    "\"\"\"\n",
    "compute the average distance\n",
    "from first k-genes in progeni to drug target\n",
    "\"\"\""
   ]
  },
  {
   "cell_type": "markdown",
   "metadata": {},
   "source": []
  },
  {
   "cell_type": "code",
   "execution_count": 1,
   "metadata": {},
   "outputs": [],
   "source": [
    "import sys\n",
    "import os\n",
    "import pandas as pd\n",
    "import scipy.stats as ss\n",
    "\n",
    "import networkx as nx\n",
    "import matplotlib.pyplot as plt\n",
    "plt.style.use('seaborn-paper')\n",
    "\n",
    "import dist_utils\n",
    "\n",
    "# current directory\n",
    "netphix_dir = os.getcwd() + \"/\""
   ]
  },
  {
   "cell_type": "code",
   "execution_count": 10,
   "metadata": {
    "scrolled": true,
    "collapsed": true
   },
   "outputs": [],
   "source": [
    "# read files\n",
    "\n",
    "# network \n",
    "# radius of the largest connected compoent is 6. max_dist set to 7.\n",
    "net_file = netphix_dir + \"data/HumanStringNet.txt\"\n",
    "all_net = nx.read_edgelist(net_file, data=(('weight',float),))\n",
    "nodes = list(all_net.nodes())\n",
    "\n",
    "# drug targets\n",
    "drug_id_df = pd.read_csv(netphix_dir + \"data/drug_target_id.txt\", sep=\"\\t\", index_col=0)\n",
    "gdsc_target_df = pd.read_csv(netphix_dir + \"data/gdsc_drug_targets.tsv\", sep=\"\\t\", index_col=0)\n",
    "drug_target_df = drug_id_df.merge(gdsc_target_df, left_on=\"drug\", right_index=True)\n",
    "drug_target_df[\"checked_targets\"] = drug_target_df[\"Target\"].apply(dist_utils.check_target_nodes, args=(nodes,))\n",
    "id_targets = drug_target_df[\"checked_targets\"]\n",
    "drug_targets = drug_target_df.set_index(\"drug\")[\"checked_targets\"]\n",
    "drug_targets_dic = drug_targets.to_dict()\n"
   ]
  },
  {
   "cell_type": "code",
   "execution_count": 11,
   "metadata": {
    "collapsed": true
   },
   "outputs": [],
   "source": [
    "# pick a random module of size 20 and compute distance\n",
    "\n",
    "random_df = pd.DataFrame()\n",
    "all_genes = list(all_net.nodes())\n",
    "for i in range(1, 266):\n",
    "    random_genes = dist_utils.choose_random_genes(all_genes, 20)\n",
    "    random_df[i] = random_genes\n",
    "\n",
    "random_mean_dist_df = dist_utils.comp_mean_dist2(random_df, all_net, id_targets)\n",
    "\n",
    "random_dist_results_df = pd.DataFrame()\n",
    "random_dist_results_df[\"random_top5\"] = random_mean_dist_df.iloc[:5].mean(skipna=True)\n",
    "random_dist_results_df[\"random_top10\"] = random_mean_dist_df.iloc[:10].mean(skipna=True)\n",
    "random_dist_results_df[\"random_top20\"] = random_mean_dist_df.iloc[:20].mean(skipna=True)"
   ]
  },
  {
   "cell_type": "code",
   "execution_count": 12,
   "metadata": {
    "collapsed": true
   },
   "outputs": [],
   "source": [
    "# netphix modules\n",
    "netphix_file = netphix_dir +\"results/max_sig_combined_modules_0.05.tsv\"\n",
    "netphix_modules_df = pd.read_csv(netphix_file, sep=\"\\t\")\n",
    "\n",
    "netphix_dist_results_df = dist_utils.comp_mean_dist(netphix_modules_df, all_net, drug_targets_dic)"
   ]
  },
  {
   "cell_type": "code",
   "execution_count": 29,
   "metadata": {
    "collapsed": false
   },
   "outputs": [
    {
     "name": "stdout",
     "output_type": "stream",
     "text": [
      "dec          2.370366\ninc          1.968476\nboth         2.123344\nno_target    2.152620\ndtype: float64\ndec          2.669540\ninc          2.228588\nboth         2.500609\nno_target    2.544827\ndtype: float64\nprogeni_top5     3.020476\nprogeni_top10    2.991471\nprogeni_top20    2.944085\ndtype: float64\nrandom_top5     2.978014\nrandom_top10    2.973667\nrandom_top20    2.977317\ndtype: float64\nTtest_indResult(statistic=-17.90892400679556, pvalue=2.8659937420400063e-58)\nTtest_indResult(statistic=-7.31698561270371, pvalue=2.147050781701636e-12)\nTtest_indResult(statistic=-18.655685158774396, pvalue=3.7523470178959193e-62)\nTtest_indResult(statistic=-8.074806879762898, pvalue=1.4722648848021077e-14)\nTtest_indResult(statistic=-7.776916946174541, pvalue=2.2292608503051995e-14)\nTtest_indResult(statistic=-3.439854094278539, pvalue=0.0008032551312499787)\n"
     ]
    }
   ],
   "source": [
    "# statistics\n",
    "# \n",
    "print(netphix_dist_results_df.mean())\n",
    "\n",
    "\n",
    "print(ss.ttest_ind(netphix_dist_results_df.both.values, random_dist_results_df.random_top5.values, nan_policy='omit'))\n",
    "print(ss.ttest_ind(netphix_dist_results_df.both.values, random_dist_results_df.random_top20.values, nan_policy='omit'))\n",
    "print(ss.ttest_ind(netphix_dist_results_df.inc.values, netphix_dist_results_df.dec.values, nan_policy='omit'))\n"
   ]
  }
 ],
 "metadata": {
  "kernelspec": {
   "display_name": "Python 3",
   "language": "python",
   "name": "python3"
  },
  "language_info": {
   "codemirror_mode": {
    "name": "ipython",
    "version": 3
   },
   "file_extension": ".py",
   "mimetype": "text/x-python",
   "name": "python",
   "nbconvert_exporter": "python",
   "pygments_lexer": "ipython3",
   "version": "3.6.2"
  }
 },
 "nbformat": 4,
 "nbformat_minor": 4
}
