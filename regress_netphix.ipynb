{
 "cells": [
  {
   "cell_type": "markdown",
   "metadata": {},
   "source": [
    "Run regression using identified NETPHIX modules to predict drug response"
   ]
  },
  {
   "cell_type": "code",
   "execution_count": 12,
   "metadata": {},
   "outputs": [],
   "source": [
    "import pandas as pd\n",
    "import os\n",
    "\n",
    "import cv_utils \n",
    "\n",
    "# current directory\n",
    "netphix_dir = os.getcwd() + \"/\""
   ]
  },
  {
   "cell_type": "code",
   "execution_count": 9,
   "metadata": {},
   "outputs": [],
   "source": [
    "# read X (alt)\n",
    "\n",
    "# drugs in netphix\n",
    "# only the ones in ctrp\n",
    "netphix_modules = pd.read_csv(netphix_dir+\"results/max_sig_combined_modules_ctrp_cv_0.05.tsv\", sep=\"\\t\")\n",
    "# all sig moduls\n",
    "all_netphix_modules = pd.read_csv(netphix_dir+\"results/max_sig_combined_modules_0.05.tsv\", sep=\"\\t\")\n",
    "\n",
    "# drug name/id \n",
    "drug_id_df = pd.read_csv(netphix_dir+\"data/drug_target_id.txt\", sep=\"\\t\")\n",
    "drug_id_dic = dict(zip(drug_id_df.drug, drug_id_df.id))\n",
    "\n",
    "# depmap\n",
    "target_prefix=netphix_dir + \"data/gdsc_auc/Target\"\n",
    "alt_file = netphix_dir + \"data/AlterationsV2_final.txt.gz\"\n",
    "alt_df = pd.read_csv(alt_file, sep=\"\\t\", index_col=0)\n",
    "\n",
    "# read CTRP data\n",
    "ctrp_auc_df = pd.read_csv(netphix_dir +\"data/ctrp_auc_processed.txt\", sep=\"\\t\", index_col=0)"
   ]
  },
  {
   "cell_type": "code",
   "execution_count": 7,
   "metadata": {},
   "outputs": [],
   "source": [
    "# CTRP alteration data using the same table as GDSC\n",
    "cell_dic = dict([(x, x.split(\"_\")[0]) for x in alt_df.columns])\n",
    "ctrp_alt_df = alt_df.rename(cell_dic, axis=\"columns\")\n",
    "\n",
    "common_cells = set(ctrp_auc_df.columns).intersection(ctrp_alt_df.columns)\n",
    "ctrp_alt_df  =ctrp_alt_df[common_cells]\n",
    "ctrp_auc_df = ctrp_auc_df[common_cells]"
   ]
  },
  {
   "cell_type": "code",
   "execution_count": 8,
   "metadata": {},
   "outputs": [],
   "source": [
    "def merge_modules(netphix_modules):\n",
    "    \"\"\"\n",
    "    merge modules for the same drug and create a new netphix module df\n",
    "    \"\"\"\n",
    "    rows = []\n",
    "    for drug, group in netphix_modules.groupby(\"drug\"):\n",
    "        all_inc = reduce(lambda x, y: x+y, group.inc.astype(str).str.split(\",\"))\n",
    "        new_inc = \",\".join(filter(lambda x: x != \"nan\", set(all_inc)))\n",
    "        all_dec = reduce(lambda x, y: x+y, group.dec.astype(str).str.split(\",\"))\n",
    "        new_dec = \",\".join(filter(lambda x: x != \"nan\", set(all_dec)))\n",
    "        rows.append((drug, new_dec, new_inc, ))\n",
    "    return pd.DataFrame(data=rows, columns=[\"drug\", \"dec\", \"inc\"])\n",
    "\n",
    "merged_netphix_modules = merge_modules(netphix_modules)\n",
    "merged_all_netphix_modules = merge_modules(all_netphix_modules)\n",
    "\n",
    "# merged_netphix_modules.to_csv(\"results/merged_netphix_modules.tsv\", sep=\"\\t\")"
   ]
  },
  {
   "cell_type": "code",
   "execution_count": 10,
   "metadata": {
    "scrolled": true
   },
   "outputs": [],
   "source": [
    "# Global Parameters\n",
    "# target_prefix: target file prefix\n",
    "# drug_id_dic: drug > id mapping\n",
    "# alt_df: gdsc alteration for each gene +mutation type\n",
    "# ctrp_drug_ids: drug ids for drugs in ctrp\n",
    "# ctrp_auc_df: auc for ctrp\n",
    "# ctrp_alt_df: alteration for ctrp\n",
    "\n",
    "# Learning hyperparameters with GDSC\n",
    "def netphix_ctrp_cv(method, score, netphix_modules):\n",
    "    best_model_dic = {}\n",
    "    ctrp_score_dic = {}\n",
    "    score_param = cv_utils.assign_score_param(score)\n",
    "    \n",
    "    for module_idx in range(netphix_modules.shape[0]):\n",
    "        print(module_idx)\n",
    "        row = netphix_modules.iloc[module_idx].fillna(\"\") # in case of nan \n",
    "\n",
    "        drug = row.drug\n",
    "        drug_id = drug_id_dic[drug]\n",
    "\n",
    "        # read drug response\n",
    "        gdsc_target_file = target_prefix+str(drug_id)+\".txt\"\n",
    "        target_df = pd.read_csv(gdsc_target_file, sep=\"\\t\", index_col=0)\n",
    "        \n",
    "        # netphix module - merge dec and inc, and remove empty string\n",
    "        module = list(filter(lambda x: len(x) > 0, row.dec.split(\",\")+row.inc.split(\",\"))) \n",
    "        print(drug+\", \"+str(drug_id), module)\n",
    "\n",
    "        best_model = cv_utils.fit_gdsc_model(target_df, alt_df, module, method, score_param, cv=4)\n",
    "        best_model_dic[drug] = best_model\n",
    "        \n",
    "        ctrp_score = cv_utils.comp_ctrp_score(best_model, ctrp_auc_df, ctrp_alt_df, drug, module)\n",
    "        ctrp_score_dic[drug] = ctrp_score\n",
    "        \n",
    "    return best_model_dic, ctrp_score_dic"
   ]
  },
  {
   "cell_type": "code",
   "execution_count": null,
   "metadata": {},
   "outputs": [],
   "source": [
    "rfr_model_dic, rfr_ctrp_score_dic = netphix_ctrp_cv(\"rfr\", \"pci\", merged_netphix_modules)\n",
    "\n",
    "score_list = [(drug, rfr_ctrp_score_dic[drug]) for drug in rfr_ctrp_score_dic]\n",
    "cv_results = pd.DataFrame(score_list, columns=[\"drug\", \"ctrp_score\"])\n",
    "# cv_results.set_index(\"drug\").to_csv(\"results/netphix_rfr_ctrp_test_scores.tsv\", sep=\"\\t\")"
   ]
  },
  {
   "cell_type": "code",
   "execution_count": null,
   "metadata": {},
   "outputs": [],
   "source": [
    "svr_model_dic, svr_ctrp_score_dic = netphix_ctrp_cv(\"svr\", \"pci\", merged_netphix_modules)\n",
    "\n",
    "score_list = [(drug, svr_ctrp_score_dic[drug]) for drug in svr_ctrp_score_dic]\n",
    "cv_results = pd.DataFrame(score_list, columns=[\"drug\", \"ctrp_score\"])\n",
    "cv_results.set_index(\"drug\").to_csv(\"results/netphix_svr_ctrp_test_scores.tsv\", sep=\"\\t\")"
   ]
  },
  {
   "cell_type": "code",
   "execution_count": 14,
   "metadata": {
    "scrolled": true
   },
   "outputs": [],
   "source": [
    "# Learning hyperparameters with GDSC and test nested\n",
    "def netphix_nested_cv( method, score, netphix_modules):\n",
    "    nested_scores = {}\n",
    "    cv_results = []\n",
    "    score_param = cv_utils.assign_score_param(score)\n",
    "    \n",
    "    for module_idx in range(netphix_modules.shape[0]):\n",
    "        row = netphix_modules.iloc[module_idx].fillna(\"\") # in case of nan \n",
    "        drug = row.drug\n",
    "        drug_id = drug_id_dic[drug]\n",
    "        \n",
    "        # netphix module - merge dec and inc, and remove empty string\n",
    "        module = list(filter(lambda x: len(x) > 0, row.dec.split(\",\")+row.inc.split(\",\"))) \n",
    "        print(drug+\", \"+str(drug_id), module)\n",
    "\n",
    "        # read drug response\n",
    "        target_df = pd.read_csv(target_prefix+str(drug_id)+\".txt\", sep=\"\\t\", index_col=0)\n",
    "        \n",
    "        nested_scores[drug] = cv_utils.nested_gdsc_cv(target_df, alt_df, module,  method, score_param, \n",
    "                                                      i_cv=3, o_cv=3, r_cv=2, r_state=drug_id)\n",
    "        print(nested_scores[drug]['test_score'].mean())\n",
    "    return nested_scores\n"
   ]
  },
  {
   "cell_type": "code",
   "execution_count": null,
   "metadata": {},
   "outputs": [],
   "source": [
    "rfr_nested_scores = netphix_nested_cv(\"rfr\", \"pci\", merged_all_netphix_modules)\n",
    "\n",
    "score_list = [(drug, rfr_nested_scores[drug]['test_score'].mean(), rfr_nested_scores[drug]['train_score'].mean()) for drug in rfr_nested_scores]\n",
    "cv_results = pd.DataFrame(score_list, columns=[\"drug\", \"test_score\", \"train_score\"])\n",
    "# cv_results.set_index(\"drug\").to_csv(\"results/netphix_rfr_nested_gdsc_mean_test_scores.tsv\", sep=\"\\t\")"
   ]
  },
  {
   "cell_type": "code",
   "execution_count": null,
   "metadata": {},
   "outputs": [],
   "source": [
    "svr_nested_scores = netphix_nested_cv(\"svr\", \"pci\", merged_all_netphix_modules)\n",
    "\n",
    "score_list = [(drug, svr_nested_scores[drug]['test_score'].mean(), svr_nested_scores[drug]['train_score'].mean()) for drug in svr_nested_scores]\n",
    "cv_results = pd.DataFrame(score_list, columns=[\"drug\", \"test_score\", \"train_score\"])\n",
    "cv_results.set_index(\"drug\").to_csv(\"results/netphix_svr_nested_gdsc_mean_test_scores.tsv\", sep=\"\\t\")"
   ]
  }
 ],
 "metadata": {
  "kernelspec": {
   "display_name": "Python 3",
   "language": "python",
   "name": "python3"
  },
  "language_info": {
   "codemirror_mode": {
    "name": "ipython",
    "version": 3
   },
   "file_extension": ".py",
   "mimetype": "text/x-python",
   "name": "python",
   "nbconvert_exporter": "python",
   "pygments_lexer": "ipython3",
   "version": "3.6.2"
  }
 },
 "nbformat": 4,
 "nbformat_minor": 4
}
